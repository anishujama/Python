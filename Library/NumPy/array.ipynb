{
 "cells": [
  {
   "cell_type": "code",
   "execution_count": null,
   "id": "d6b3b42a",
   "metadata": {},
   "outputs": [],
   "source": [
    "import numpy as np\n",
    "arr = np.array([[10,20,30,40],[50,60,70,80]])\n",
    "print(arr)\n",
    "print(type(arr))"
   ]
  },
  {
   "cell_type": "code",
   "execution_count": null,
   "id": "4df88bbd",
   "metadata": {},
   "outputs": [],
   "source": [
    "import numpy as np\n",
    "arr = np.array([[10,20,30,40],[50,60,70,80]])\n",
    "print(arr[1,0:3])"
   ]
  },
  {
   "cell_type": "code",
   "execution_count": null,
   "id": "741d581f",
   "metadata": {},
   "outputs": [],
   "source": [
    "import numpy as np\n",
    "a= [[10,20,30,40],[50,60,70,80],[20,40,60,80]]\n",
    "arr = np.array(a)\n",
    "print(np.shape(arr))\n",
    "print(np.size(arr))\n",
    "print(np.ndim(arr))\n",
    "print(np.dtype)#\n",
    "print(arr.astype(float))\n"
   ]
  },
  {
   "cell_type": "code",
   "execution_count": null,
   "id": "6924b9be",
   "metadata": {},
   "outputs": [],
   "source": [
    "import numpy as np\n",
    "arr1 = [[2,3],[3,4]]\n",
    "arr2 = [[4,1],[6,2]]\n",
    "print(np.add(arr1,arr2))\n",
    "print(np.subtract(arr1,arr2))\n",
    "print(np.divide(arr1,arr2))\n",
    "print(np.multiply(arr1,arr2))\n",
    "print(np.power(arr1,arr2))\n",
    "print(np.sqrt(arr1))\n",
    "print(np.exp(arr2))"
   ]
  },
  {
   "cell_type": "code",
   "execution_count": null,
   "id": "3e12b21d",
   "metadata": {},
   "outputs": [],
   "source": [
    "import numpy as np\n",
    "arr1 = [2,8,3,4]\n",
    "arr2 = [7,5,9,6]\n",
    "print(np.concatenate([arr1,arr2]))"
   ]
  },
  {
   "cell_type": "code",
   "execution_count": null,
   "id": "debdea67",
   "metadata": {},
   "outputs": [],
   "source": [
    "import numpy as np\n",
    "a = np.array([[20,40],[60,80]])\n",
    "print(np.append(a,[90,100]))\n",
    "print(np.insert(a,1,[50,60]))\n",
    "print(np.delete(a,1,axis = 0))"
   ]
  },
  {
   "cell_type": "code",
   "execution_count": null,
   "id": "160fe9fc",
   "metadata": {},
   "outputs": [],
   "source": [
    "arr = np.array([7,8,4,12,9])\n",
    "print(np.sort(arr))\n",
    "s = np.where(arr==4)\n",
    "print(s)\n",
    "arr = np.array([1,2,3,4,5])\n",
    "ss = np.searchsorted(arr,5)\n",
    "print(ss)"
   ]
  },
  {
   "cell_type": "code",
   "execution_count": null,
   "id": "e4948c9e",
   "metadata": {},
   "outputs": [],
   "source": [
    "a = np.array([20,40,60,70])\n",
    "print(np.sum(a))\n",
    "print(np.min(a))\n",
    "print(np.max(a))\n",
    "print(np.size(a))\n",
    "print(np.mean(a))\n",
    "print(np.cumsum(a))\n",
    "print(np.cumprod(a))"
   ]
  },
  {
   "cell_type": "code",
   "execution_count": null,
   "id": "8b06f12c",
   "metadata": {},
   "outputs": [],
   "source": [
    "a = [100,150,199,200,250,130]\n",
    "b = [10,50,30,40,30,10]\n",
    "price = np.array(a)\n",
    "quantity = np.array(b)\n",
    "print(price,\"\\n\",quantity)\n",
    "print()\n",
    "c = np.cumprod([price,quantity],axis=0)\n",
    "print(c)\n",
    "print()\n",
    "print(c[1])\n",
    "print()\n",
    "print(c[1].sum())"
   ]
  },
  {
   "cell_type": "code",
   "execution_count": null,
   "id": "3000153b",
   "metadata": {},
   "outputs": [],
   "source": [
    "import numpy as np\n",
    "import statistics as stats\n",
    "backed_food = [200,300,150,130,200,280,170,188]\n",
    "a = np.array(backed_food)\n",
    "print(np.mean(backed_food))\n",
    "print(np.median(backed_food))\n",
    "print(stats.mode(backed_food))\n",
    "print(np.std(backed_food))"
   ]
  },
  {
   "cell_type": "code",
   "execution_count": null,
   "id": "bbba3d87",
   "metadata": {},
   "outputs": [],
   "source": [
    "tobacco_consumption = [30,50,10,30,50,40]\n",
    "deaths = [100,120,70,100,120,112]\n",
    "print(np.corrcoef([tobacco_consumption,deaths]))"
   ]
  },
  {
   "cell_type": "code",
   "execution_count": null,
   "id": "b087cb11",
   "metadata": {},
   "outputs": [],
   "source": [
    "price = [300,100,350,150,200]\n",
    "sales = [10,20,7,17,3]\n",
    "print(np.corrcoef(price,sales))"
   ]
  }
 ],
 "metadata": {
  "kernelspec": {
   "display_name": "Python 3",
   "language": "python",
   "name": "python3"
  },
  "language_info": {
   "codemirror_mode": {
    "name": "ipython",
    "version": 3
   },
   "file_extension": ".py",
   "mimetype": "text/x-python",
   "name": "python",
   "nbconvert_exporter": "python",
   "pygments_lexer": "ipython3",
   "version": "3.13.5"
  }
 },
 "nbformat": 4,
 "nbformat_minor": 5
}
