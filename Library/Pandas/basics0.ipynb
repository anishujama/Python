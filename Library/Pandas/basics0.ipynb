{
 "cells": [
  {
   "cell_type": "code",
   "execution_count": null,
   "id": "f997bef3",
   "metadata": {},
   "outputs": [],
   "source": [
    "import pandas as pd\n",
    "data = {\"Name\":[\"Anish\",\"Aksah\",\"Adarsh\"],\n",
    "        \"Age\":[20,22,21],\n",
    "        \"Salary\":[100000,50000,550000]}\n",
    "df = pd.DataFrame(data)\n",
    "print(df)"
   ]
  },
  {
   "cell_type": "code",
   "execution_count": null,
   "id": "57e008e8",
   "metadata": {},
   "outputs": [],
   "source": [
    "data = pd.read_csv(\"css.csv\")\n",
    "print(data)"
   ]
  },
  {
   "cell_type": "code",
   "execution_count": null,
   "id": "97b6fee6",
   "metadata": {},
   "outputs": [],
   "source": [
    "data = pd.read_excel(\"Sample.xlsx\")\n",
    "# print(data)\n",
    "# print(data.head(10))\n",
    "# print(data.tail(10))\n",
    "# print(data.info())\n",
    "# print(data.isnull())\n",
    "# print(data.duplicated())\n",
    "# print(data[\"Country\"].duplicated())\n",
    "print(data.drop_duplicates())\n"
   ]
  }
 ],
 "metadata": {
  "kernelspec": {
   "display_name": ".venv",
   "language": "python",
   "name": "python3"
  },
  "language_info": {
   "codemirror_mode": {
    "name": "ipython",
    "version": 3
   },
   "file_extension": ".py",
   "mimetype": "text/x-python",
   "name": "python",
   "nbconvert_exporter": "python",
   "pygments_lexer": "ipython3",
   "version": "3.13.5"
  }
 },
 "nbformat": 4,
 "nbformat_minor": 5
}
