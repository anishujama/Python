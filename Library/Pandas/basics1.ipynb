{
 "cells": [
  {
   "cell_type": "code",
   "execution_count": null,
   "id": "86a70874-f215-4820-bc9b-977033fe6ff5",
   "metadata": {},
   "outputs": [],
   "source": [
    "import pandas as pd\n",
    "data = pd.read_csv(\"css.csv\")\n",
    "print(data.isnull())\n",
    "print(data.dropna())"
   ]
  },
  {
   "cell_type": "code",
   "execution_count": null,
   "id": "63986701",
   "metadata": {},
   "outputs": [],
   "source": [
    "import numpy as np\n",
    "print(data.head(10))\n",
    "print(data.replace(np.nan,\"hi\"))"
   ]
  },
  {
   "cell_type": "markdown",
   "id": "623a83a3",
   "metadata": {},
   "source": [
    " Some usefull line for this type of record if some column have Nan value"
   ]
  },
  {
   "cell_type": "code",
   "execution_count": null,
   "id": "1a3c15a9",
   "metadata": {},
   "outputs": [],
   "source": [
    " data[\"salary\"]=  data[\"salary\"].replace(np.nan )\n",
    "print(data)\n",
    "print(data[\"salary\"].mean())\n",
    "data[\"salary\"]= data[\"salary\"].replace(np.nan,24000)\n",
    "print(data)\n",
    "print(data.fillna(method=\"ffill\"))\n",
    "print(data.fillna(method=\"bfill\"))"
   ]
  },
  {
   "cell_type": "markdown",
   "id": "15720f5f",
   "metadata": {},
   "source": [
    "Create a column which name is Gets bonus and store \"No bonus\" and \"bonus\""
   ]
  },
  {
   "cell_type": "code",
   "execution_count": null,
   "id": "d1c4832e",
   "metadata": {},
   "outputs": [],
   "source": [
    "import pandas as pd\n",
    "data = pd.read_excel(\"excel_file_name_with_extesion\")\n",
    "print(data)\n",
    "data.loc[(data[\"Column name as ex Bonus %\"]==0),\"Gets Bonus\"]=\"No bonus\"\n",
    "data.loc[(data[\"Column name as ex Bonus %\"]>0,\"Gets Bonus\")]=\"Bonus\""
   ]
  },
  {
   "cell_type": "markdown",
   "id": "0a1aea31",
   "metadata": {},
   "source": [
    "For adding first and last name and store in new column which name is 'full name' and first letter of first and second name is should be capital"
   ]
  },
  {
   "cell_type": "code",
   "execution_count": null,
   "id": "a9aeff3f",
   "metadata": {},
   "outputs": [],
   "source": [
    "import pandas as pd\n",
    "data = pd.read_excel(\"execfile_name_with_extension\")\n",
    "print(data)\n",
    "data[\"full name\"] = data[\"first name\"].str.capitalize() + \" \" + data[\"last name\"].str.capitalize()\n",
    "print(data)"
   ]
  },
  {
   "cell_type": "markdown",
   "id": "a55325f7",
   "metadata": {},
   "source": [
    "for getting some percentage of salary or any other column and storing percentage amount in other column which name is \"bonus\""
   ]
  },
  {
   "cell_type": "code",
   "execution_count": null,
   "id": "474a8537",
   "metadata": {},
   "outputs": [],
   "source": [
    "import pandas as pd\n",
    "data = pd.read_excel(\"execfile_with_extension\")\n",
    "print(data)\n",
    "data[\"bonus\"] = (data[\"salart\"]/100)*20\n",
    "print(data)"
   ]
  },
  {
   "cell_type": "markdown",
   "id": "fe7d7c54",
   "metadata": {},
   "source": [
    "create a column for store short name of months"
   ]
  },
  {
   "cell_type": "code",
   "execution_count": null,
   "id": "4cfe5629",
   "metadata": {},
   "outputs": [],
   "source": [
    "import pandas as pd\n",
    "data = {\"months\":[\"january\",\"february\",\"march\",\"april\",\"may\",\"june\",\"july\",\"august\"]}\n",
    "a = pd.DataFrame(data)\n",
    "print(a)\n",
    "print()\n",
    "def extract (value):\n",
    "    return value[0:3]\n",
    "a[\"short_months\"] = a[\"months\"].map(extract)\n",
    "print(a)"
   ]
  },
  {
   "cell_type": "markdown",
   "id": "47039e8b",
   "metadata": {},
   "source": [
    "Group By\n",
    "for getting summary of data we use group by"
   ]
  },
  {
   "cell_type": "code",
   "execution_count": null,
   "id": "15cd7ab3",
   "metadata": {},
   "outputs": [],
   "source": [
    "import pandas as pd\n",
    "data = pd.read_excel(\"execfile_with_extension\")\n",
    "print(data)\n",
    "gp = data.groupby([\"Department\",\"country\",\"here_we_add_multiple_parameter\"]).agg({\"Gender\":\"Count\",\"Annual salary\":\"max\",\"here_we_add_multiple_parameters\"})"
   ]
  },
  {
   "cell_type": "markdown",
   "id": "a7244b41",
   "metadata": {},
   "source": [
    "Merge and concatenation"
   ]
  },
  {
   "cell_type": "code",
   "execution_count": null,
   "id": "58509997",
   "metadata": {},
   "outputs": [],
   "source": [
    "import pandas as pd\n",
    "data1 = {\"emp1\":[\"e1\",\"e2\",\"e3\",\"e4\",\"e5\",\"e6\"],\n",
    "         \"names\":[\"ram\",\"sam\",\"hari\",\"haidar\",\"ali\",\"adi\"],\n",
    "         \"age\":[34,56,41,25,26,14]}\n",
    "data2 = {\"emp1\":[\"e1\",\"e2\",\"e3\",\"e4\",\"e5\",\"e6\"],\n",
    "         \"salary\":[445000,52000,650000,451200,540000,432000]}\n",
    "\n",
    "df1 = pd.DataFrame(data1)\n",
    "df2 = pd.DataFrame(data2)\n",
    "print(df1)\n",
    "print()\n",
    "print(df2)\n",
    "print(pd.merge(df1,df2,on=\"emp1\"))\n",
    "print(pd.merge(left= df1,right= df2,on=\"emp1\",how=\"inner\"))\n",
    "print(pd.merge(left= df1,right= df2,on=\"emp1\",how=\"left\"))\n",
    "print(pd.merge(left= df1,right= df2,on=\"emp1\",how=\"right\"))\n",
    "print(pd.concat([df1,df2]))"
   ]
  },
  {
   "cell_type": "markdown",
   "id": "f3e7b694",
   "metadata": {},
   "source": [
    "Compare DataFrame"
   ]
  },
  {
   "cell_type": "code",
   "execution_count": null,
   "id": "1d513db1",
   "metadata": {},
   "outputs": [],
   "source": [
    "import pandas as pd\n",
    "dict = {\"fruits\":[\"mango\",\"apples\",\"banana\",\"papaya\"],\n",
    "        \"price\":[100,150,50,35],\n",
    "        \"quantity\":[15,10,10,3]}\n",
    "df1 = pd.DataFrame(dict)\n",
    "print(df1)\n",
    "df2 = df1.copy()\n",
    "print(df2)\n",
    "df2.loc[0,\"price\"] =  120\n",
    "df2.loc[1,\"price\"]=172\n",
    "df2.loc[3,\"price\"]=30\n",
    "df2.loc[0,\"quantity\"]=12\n",
    "df2.loc[1,\"quantity\"]=15\n",
    "df2.loc[3,\"quantity\"]=4\n",
    "print(df2)\n",
    "print(df1.compare(df2))\n",
    "print(df1.compare(df2,align_axis=0))\n",
    "print(df1.compare(df2,keep_equal=False))\n",
    "print(df1.compare(df2,keep_shape=False))"
   ]
  }
 ],
 "metadata": {
  "kernelspec": {
   "display_name": ".venv",
   "language": "python",
   "name": "python3"
  },
  "language_info": {
   "codemirror_mode": {
    "name": "ipython",
    "version": 3
   },
   "file_extension": ".py",
   "mimetype": "text/x-python",
   "name": "python",
   "nbconvert_exporter": "python",
   "pygments_lexer": "ipython3",
   "version": "3.13.5"
  }
 },
 "nbformat": 4,
 "nbformat_minor": 5
}
