{
 "cells": [
  {
   "cell_type": "markdown",
   "id": "018b629e",
   "metadata": {},
   "source": [
    "Pandas - pivoting and melting DataFrame"
   ]
  },
  {
   "cell_type": "code",
   "execution_count": 2,
   "id": "9677c72c",
   "metadata": {},
   "outputs": [
    {
     "name": "stdout",
     "output_type": "stream",
     "text": [
      "  keys  Names Houses Grades\n",
      "0   k1   john   Blue    3rd\n",
      "1   k2  david    Red    4th\n",
      "2   k3  peter  Green    5th\n"
     ]
    }
   ],
   "source": [
    "import pandas as pd \n",
    "dict = {\"keys\":[\"k1\",\"k2\",\"k3\"],\n",
    "\"Names\":[\"john\",\"david\",\"peter\"],\n",
    "\"Houses\":[\"Blue\",\"Red\",\"Green\"],\n",
    "\"Grades\":[\"3rd\",\"4th\",\"5th\"]}\n",
    "df = pd.DataFrame(dict)\n",
    "print(df)"
   ]
  },
  {
   "cell_type": "markdown",
   "id": "59e741dd",
   "metadata": {},
   "source": [
    "Applying pivoting"
   ]
  },
  {
   "cell_type": "code",
   "execution_count": null,
   "id": "47cfc7de",
   "metadata": {},
   "outputs": [
    {
     "name": "stdout",
     "output_type": "stream",
     "text": [
      "      Houses              Grades           \n",
      "Names  david  john  peter  david john peter\n",
      "keys                                       \n",
      "k1       NaN  Blue    NaN    NaN  3rd   NaN\n",
      "k2       Red   NaN    NaN    4th  NaN   NaN\n",
      "k3       NaN   NaN  Green    NaN  NaN   5th\n"
     ]
    }
   ],
   "source": [
    "print(df.pivot(index=\"keys\",columns=\"Names\",values=[\"Houses\",\"Grades\"]))"
   ]
  },
  {
   "cell_type": "markdown",
   "id": "fa98d0d7",
   "metadata": {},
   "source": [
    "Applying melting"
   ]
  },
  {
   "cell_type": "code",
   "execution_count": 6,
   "id": "5868e52a",
   "metadata": {},
   "outputs": [
    {
     "name": "stdout",
     "output_type": "stream",
     "text": [
      "   Names variable  value\n",
      "0   john   Houses   Blue\n",
      "1  david   Houses    Red\n",
      "2  peter   Houses  Green\n"
     ]
    }
   ],
   "source": [
    "print(pd.melt(df,id_vars=[\"Names\"],value_vars=[\"Houses\"]))"
   ]
  },
  {
   "cell_type": "code",
   "execution_count": 9,
   "id": "ea245dce",
   "metadata": {},
   "outputs": [
    {
     "name": "stdout",
     "output_type": "stream",
     "text": [
      "   Names variable  value\n",
      "0   john   Houses   Blue\n",
      "1  david   Houses    Red\n",
      "2  peter   Houses  Green\n",
      "3   john   Grades    3rd\n",
      "4  david   Grades    4th\n",
      "5  peter   Grades    5th\n"
     ]
    }
   ],
   "source": [
    "print(pd.melt(df,id_vars=[\"Names\"],value_vars=[\"Houses\",\"Grades\"]))"
   ]
  },
  {
   "cell_type": "code",
   "execution_count": 10,
   "id": "c4d761bd",
   "metadata": {},
   "outputs": [
    {
     "name": "stdout",
     "output_type": "stream",
     "text": [
      "   Names House&Grades values\n",
      "0   john       Houses   Blue\n",
      "1  david       Houses    Red\n",
      "2  peter       Houses  Green\n",
      "3   john       Grades    3rd\n",
      "4  david       Grades    4th\n",
      "5  peter       Grades    5th\n"
     ]
    }
   ],
   "source": [
    "print(pd.melt(df,id_vars=[\"Names\"],value_vars=[\"Houses\",\"Grades\"],var_name=\"House&Grades\",value_name=\"values\"))"
   ]
  }
 ],
 "metadata": {
  "kernelspec": {
   "display_name": ".venv",
   "language": "python",
   "name": "python3"
  },
  "language_info": {
   "codemirror_mode": {
    "name": "ipython",
    "version": 3
   },
   "file_extension": ".py",
   "mimetype": "text/x-python",
   "name": "python",
   "nbconvert_exporter": "python",
   "pygments_lexer": "ipython3",
   "version": "3.13.5"
  }
 },
 "nbformat": 4,
 "nbformat_minor": 5
}
