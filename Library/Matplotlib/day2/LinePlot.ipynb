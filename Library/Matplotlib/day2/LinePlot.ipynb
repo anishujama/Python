{
 "cells": [
  {
   "cell_type": "markdown",
   "id": "55adabb2",
   "metadata": {},
   "source": [
    "# Line plot Matplotlib\n",
    "A line plot in Matplotlib is one of the most common types of plots. It is used to display data points connected by straight lines, making it easy to visualize trends or changes over time (or any continuous variable)."
   ]
  },
  {
   "cell_type": "code",
   "execution_count": null,
   "id": "0d1b821f",
   "metadata": {},
   "outputs": [],
   "source": [
    "import matplotlib.pyplot as plt\n",
    "x = [\"day1\",\"day2\",\"day3\",\"day4\",\"day5\"]\n",
    "y = [300,500,700,800,600]\n",
    "y1 = [500,400,600,520,420]\n",
    "plt.plot(x,y, marker = \"o\", ls =\"--\",color = \"red\",label = \"week1\")\n",
    "plt.plot(x,y1, marker = \"*\", ls =\"-\",color = \"green\",label = \"week2\")\n",
    "plt.legend()\n",
    "plt.show()"
   ]
  },
  {
   "cell_type": "markdown",
   "id": "ac07c751",
   "metadata": {},
   "source": [
    "for exiting data"
   ]
  },
  {
   "cell_type": "code",
   "execution_count": null,
   "id": "64c6ffc8",
   "metadata": {},
   "outputs": [],
   "source": [
    "import pandas as pd\n",
    "import matplotlib.pyplot as plt\n",
    "data = pd.read_excel(\"expenses.xlsx\")\n",
    "df = pd.DataFrame(data)\n",
    "groupedby = df.groupby(\"category\")[\"amount\"].sum()\n",
    "print(groupedby)\n",
    "plt.plot(groupedby.index,groupedby.values)\n",
    "plt.show()"
   ]
  }
 ],
 "metadata": {
  "kernelspec": {
   "display_name": ".venv",
   "language": "python",
   "name": "python3"
  },
  "language_info": {
   "codemirror_mode": {
    "name": "ipython",
    "version": 3
   },
   "file_extension": ".py",
   "mimetype": "text/x-python",
   "name": "python",
   "nbconvert_exporter": "python",
   "pygments_lexer": "ipython3",
   "version": "3.13.5"
  }
 },
 "nbformat": 4,
 "nbformat_minor": 5
}
