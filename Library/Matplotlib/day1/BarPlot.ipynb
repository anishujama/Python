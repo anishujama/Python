{
 "cells": [
  {
   "cell_type": "code",
   "execution_count": null,
   "id": "d0dffded",
   "metadata": {},
   "outputs": [],
   "source": [
    "import sys \n",
    "!{sys.executable} -m pip install openpyxl"
   ]
  },
  {
   "cell_type": "markdown",
   "id": "42faebbc",
   "metadata": {},
   "source": [
    "Bar Plot Matplotlib"
   ]
  },
  {
   "cell_type": "code",
   "execution_count": null,
   "id": "a74b0c3f",
   "metadata": {},
   "outputs": [],
   "source": [
    "import matplotlib.pyplot as plt\n",
    "import pandas as pd \n",
    "y = [98,77,88,96,88]\n",
    "x = [\"part1\",\"part2\",\"part3\",\"part4\",\"part5\"]\n",
    "colors = [\"red\",\"green\",\"orange\",\"blue\",\"yellow\"]\n",
    "plt.bar(x,y,color = colors,edgecolor= \"black\")\n",
    "plt.xlabel(\"part of harry porter\",fontsize = 17)\n",
    "plt.ylabel(\"popularity\",fontsize = 17)\n",
    "plt.title(\"popularity of harry porter\",fontsize=17)\n",
    "plt.show()"
   ]
  },
  {
   "cell_type": "markdown",
   "id": "a3a20fa4",
   "metadata": {},
   "source": [
    "For exiciting file"
   ]
  },
  {
   "cell_type": "code",
   "execution_count": null,
   "id": "651bab0b",
   "metadata": {},
   "outputs": [],
   "source": [
    "import pandas as pd \n",
    "data = pd.read_excel(\"expenses.xlsx\")\n",
    "df = pd.DataFrame(data)\n",
    "# print(data)\n",
    "groupedBy = df.groupby(\"payment mode\")[\"amount\"].sum()\n",
    "print(groupedBy)\n",
    "plt.bar(groupedBy.index,groupedBy.values)\n",
    "plt.show()"
   ]
  }
 ],
 "metadata": {
  "kernelspec": {
   "display_name": ".venv",
   "language": "python",
   "name": "python3"
  },
  "language_info": {
   "codemirror_mode": {
    "name": "ipython",
    "version": 3
   },
   "file_extension": ".py",
   "mimetype": "text/x-python",
   "name": "python",
   "nbconvert_exporter": "python",
   "pygments_lexer": "ipython3",
   "version": "3.13.5"
  }
 },
 "nbformat": 4,
 "nbformat_minor": 5
}
